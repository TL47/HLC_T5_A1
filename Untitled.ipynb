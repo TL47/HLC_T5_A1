{
 "cells": [
  {
   "cell_type": "code",
   "execution_count": 8,
   "id": "dcb9dfd7-d641-4c23-a031-507011f6e597",
   "metadata": {},
   "outputs": [
    {
     "name": "stdin",
     "output_type": "stream",
     "text": [
      "¿Cuál es tu nombre? Ana\n"
     ]
    },
    {
     "name": "stdout",
     "output_type": "stream",
     "text": [
      "('Hola', 'Ana')\n"
     ]
    }
   ],
   "source": [
    "nombre = input(\"¿Cuál es tu nombre?\")\n",
    "saludo = \"Hola\", nombre\n",
    "print(saludo)"
   ]
  },
  {
   "cell_type": "code",
   "execution_count": null,
   "id": "42d107b1-0064-4395-a488-437b40fb7a29",
   "metadata": {},
   "outputs": [],
   "source": []
  }
 ],
 "metadata": {
  "kernelspec": {
   "display_name": "Python 3 (ipykernel)",
   "language": "python",
   "name": "python3"
  },
  "language_info": {
   "codemirror_mode": {
    "name": "ipython",
    "version": 3
   },
   "file_extension": ".py",
   "mimetype": "text/x-python",
   "name": "python",
   "nbconvert_exporter": "python",
   "pygments_lexer": "ipython3",
   "version": "3.13.0"
  }
 },
 "nbformat": 4,
 "nbformat_minor": 5
}
