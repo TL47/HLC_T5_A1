{
 "cells": [
  {
   "cell_type": "code",
   "execution_count": null,
   "id": "1f6d153b-6001-4a77-8b6c-80c1269969b2",
   "metadata": {},
   "outputs": [],
   "source": [
    "int(input(\"Ingrese el primer número\"))\n",
    "int(input(\"Ingrese el segundo número\"))"
   ]
  }
 ],
 "metadata": {
  "kernelspec": {
   "display_name": "Python 3 (ipykernel)",
   "language": "python",
   "name": "python3"
  },
  "language_info": {
   "codemirror_mode": {
    "name": "ipython",
    "version": 3
   },
   "file_extension": ".py",
   "mimetype": "text/x-python",
   "name": "python",
   "nbconvert_exporter": "python",
   "pygments_lexer": "ipython3",
   "version": "3.13.0"
  }
 },
 "nbformat": 4,
 "nbformat_minor": 5
}
