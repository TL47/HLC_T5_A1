{
 "cells": [
  {
   "cell_type": "code",
   "execution_count": 1,
   "id": "58e7f1a6-2c65-4d44-8eb4-a491e77355ef",
   "metadata": {},
   "outputs": [
    {
     "name": "stdin",
     "output_type": "stream",
     "text": [
      "Ingresa un número 4\n"
     ]
    },
    {
     "name": "stdout",
     "output_type": "stream",
     "text": [
      "El cuadrado de 4 es 16\n"
     ]
    }
   ],
   "source": [
    "numero = int(input(\"Ingresa un número\"))\n",
    "cuadrado = numero * 4\n",
    "print(\"El cuadrado de\", numero, \"es\", cuadrado)"
   ]
  },
  {
   "cell_type": "code",
   "execution_count": null,
   "id": "a3de3ade-a203-433d-bc7b-f81ef7da560e",
   "metadata": {},
   "outputs": [],
   "source": []
  }
 ],
 "metadata": {
  "kernelspec": {
   "display_name": "Python 3 (ipykernel)",
   "language": "python",
   "name": "python3"
  },
  "language_info": {
   "codemirror_mode": {
    "name": "ipython",
    "version": 3
   },
   "file_extension": ".py",
   "mimetype": "text/x-python",
   "name": "python",
   "nbconvert_exporter": "python",
   "pygments_lexer": "ipython3",
   "version": "3.13.0"
  }
 },
 "nbformat": 4,
 "nbformat_minor": 5
}
