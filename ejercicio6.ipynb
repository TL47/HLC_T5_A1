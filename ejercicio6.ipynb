{
 "cells": [
  {
   "cell_type": "code",
   "execution_count": null,
   "id": "0f8fa061-eeaf-4e47-b249-e2aaca46e0d2",
   "metadata": {},
   "outputs": [],
   "source": [
    "n_1 = int(input(\"Ingrese el primer número\"))\n",
    "n_2 = int(input(\"Ingrese el segundo número\"))\n",
    "if n_1 > n_2:\n",
    "    print(\"El primer número es mayor que el segundo número\")\n",
    "else if n_1 < n_2:\n",
    "    print(\"El segundo número es mayor que el primer número\")\n",
    "else n_1 = n_2:\n",
    "    print(\"\")"
   ]
  }
 ],
 "metadata": {
  "kernelspec": {
   "display_name": "Python 3 (ipykernel)",
   "language": "python",
   "name": "python3"
  },
  "language_info": {
   "codemirror_mode": {
    "name": "ipython",
    "version": 3
   },
   "file_extension": ".py",
   "mimetype": "text/x-python",
   "name": "python",
   "nbconvert_exporter": "python",
   "pygments_lexer": "ipython3",
   "version": "3.13.0"
  }
 },
 "nbformat": 4,
 "nbformat_minor": 5
}
